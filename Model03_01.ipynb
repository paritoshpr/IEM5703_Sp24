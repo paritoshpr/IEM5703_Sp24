{
  "nbformat": 4,
  "nbformat_minor": 0,
  "metadata": {
    "colab": {
      "provenance": [],
      "authorship_tag": "ABX9TyNMS3LP2IebI4tXJ3hht5rK",
      "include_colab_link": true
    },
    "kernelspec": {
      "name": "python3",
      "display_name": "Python 3"
    },
    "language_info": {
      "name": "python"
    }
  },
  "cells": [
    {
      "cell_type": "markdown",
      "metadata": {
        "id": "view-in-github",
        "colab_type": "text"
      },
      "source": [
        "<a href=\"https://colab.research.google.com/github/paritoshpr/IEM5703_Sp24/blob/main/Model03_01.ipynb\" target=\"_parent\"><img src=\"https://colab.research.google.com/assets/colab-badge.svg\" alt=\"Open In Colab\"/></a>"
      ]
    },
    {
      "cell_type": "markdown",
      "source": [
        "## Simulation of a Die Roll![image.png](data:image/png;base64,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)"
      ],
      "metadata": {
        "id": "2vBHsYJlZhpY"
      }
    },
    {
      "cell_type": "code",
      "source": [
        "'''\n",
        "A simple program to demonstrate Model03_01 example from the book Simio and\n",
        "Simulation, Modeling and Analysis by Smith and Sturrock\n",
        "Copyright (C) 2024  Paritosh P Ramanan\n",
        "\n",
        "This program is free software: you can redistribute it and/or modify\n",
        "it under the terms of the GNU General Public License as published by\n",
        "the Free Software Foundation, either version 3 of the License, or\n",
        "(at your option) any later version.\n",
        "\n",
        "This program is distributed in the hope that it will be useful,\n",
        "but WITHOUT ANY WARRANTY; without even the implied warranty of\n",
        "MERCHANTABILITY or FITNESS FOR A PARTICULAR PURPOSE.  See the\n",
        "GNU General Public License for more details.\n",
        "\n",
        "You should have received a copy of the GNU General Public License\n",
        "along with this program.  If not, see <https://www.gnu.org/licenses/>.\n",
        "'''"
      ],
      "metadata": {
        "id": "Hp9EH54qaROF"
      },
      "execution_count": null,
      "outputs": []
    },
    {
      "cell_type": "markdown",
      "source": [
        "Let us setup the experiment for the roll of 1 die.\n",
        "\n",
        "First we start by importing the libraries"
      ],
      "metadata": {
        "id": "ibBr6jpmDQhj"
      }
    },
    {
      "cell_type": "code",
      "execution_count": null,
      "metadata": {
        "id": "zz6j1z27DFRA"
      },
      "outputs": [],
      "source": [
        "import numpy as np\n",
        "import scipy.stats\n",
        "import matplotlib.pyplot as plt"
      ]
    },
    {
      "cell_type": "markdown",
      "source": [
        "Set up the sample space $S = [1,2,3,4,5,6]$ and $P(X = x_i) = 1/6$\n"
      ],
      "metadata": {
        "id": "JRshHCnoDf-I"
      }
    },
    {
      "cell_type": "code",
      "source": [
        "S = [1,2,3,4,5,6]\n",
        "P_x = float(1)/6\n",
        "delta = float(1)/15"
      ],
      "metadata": {
        "id": "2AV78RNuD0hs"
      },
      "execution_count": null,
      "outputs": []
    },
    {
      "cell_type": "markdown",
      "source": [
        "Next we need to simulate the roll of a die. How do we do that?"
      ],
      "metadata": {
        "id": "tAoFAedeEDBC"
      }
    },
    {
      "cell_type": "markdown",
      "source": [
        "Sample from $u \\sim Uniform(0,1)$\n",
        "\n",
        "Then create a partition such that\n",
        "\n",
        "$x_i$ = $ \\begin{cases}\n",
        "          1 & 0 \\leq u \\leq 1/6 \\\\\n",
        "          2 & 1/6< u\\leq 2/6  \\\\\n",
        "          3 & 2/6< u\\leq 3/6  \\\\\n",
        "          4 & 3/6< u\\leq 4/6  \\\\\n",
        "          5 & 4/6< u\\leq 5/6  \\\\\n",
        "          6 & 5/6< u\\leq 1\n",
        "          \\end{cases}\n",
        "$\n"
      ],
      "metadata": {
        "id": "TcRA8HnMEX_x"
      }
    },
    {
      "cell_type": "code",
      "source": [
        "def faceLookUp(u):\n",
        "  if u <=P_x:\n",
        "    return 1\n",
        "  elif u> P_x and u<=2*P_x:\n",
        "    return 2\n",
        "  elif u>2*P_x and u<=3*P_x:\n",
        "    return 3\n",
        "  elif u>3*P_x and u<=4*P_x:\n",
        "    return 4\n",
        "  elif u>4*P_x and u<=5*P_x:\n",
        "    return 5\n",
        "  elif u>5*P_x and u<=1:\n",
        "    return 6\n",
        "  else:\n",
        "    return -1\n",
        "\n",
        "def faceLookUpBiased(u):\n",
        "  if u <=4*P_x:\n",
        "    return 1\n",
        "  elif u> 4 * P_x and u<=4*P_x + delta:\n",
        "    return 2\n",
        "  elif u>4*P_x + delta and u<=4*P_x+2*delta:\n",
        "    return 3\n",
        "  elif u>4*P_x+2*delta and u<=4*P_x+3*delta:\n",
        "    return 4\n",
        "  elif u>4*P_x+3*delta and u<=4*P_x+4*delta:\n",
        "    return 5\n",
        "  elif u>4*P_x+4*delta and u<=1:\n",
        "    return 6\n",
        "  else:\n",
        "    return -1"
      ],
      "metadata": {
        "id": "as-X0i-vG1Oi"
      },
      "execution_count": null,
      "outputs": []
    },
    {
      "cell_type": "code",
      "source": [
        "u_dieFace = []\n",
        "def printDieFace(u_dieFace):\n",
        "  for roll in range(len(u_dieFace)):\n",
        "    print(\"u={}, dieFace = {}, dieFaceProb={}\".format(u_dieFace[roll][0],u_dieFace[roll][1],P_x))"
      ],
      "metadata": {
        "id": "qp3ezYLZH2wd"
      },
      "execution_count": null,
      "outputs": []
    },
    {
      "cell_type": "code",
      "source": [
        "# TODO: simulate the roll of a die\n",
        "u = np.random.rand()\n",
        "dieFace = faceLookUp(u)\n",
        "u_dieFace.append([u,dieFace])\n",
        "printDieFace(u_dieFace)"
      ],
      "metadata": {
        "id": "MmgZdZR1D7fA"
      },
      "execution_count": null,
      "outputs": []
    },
    {
      "cell_type": "markdown",
      "source": [
        "Now lets do the roll of two die"
      ],
      "metadata": {
        "id": "IhR1PGqubV1Z"
      }
    },
    {
      "cell_type": "code",
      "source": [
        "import pandas as pd\n",
        "u_dieFace = []"
      ],
      "metadata": {
        "id": "ohJMLvn0cDpR"
      },
      "execution_count": null,
      "outputs": []
    },
    {
      "cell_type": "code",
      "source": [
        "\n",
        "u1 = np.random.rand()\n",
        "dieFace1 = faceLookUp(u1)\n",
        "\n",
        "u2 = np.random.rand()\n",
        "dieFace2 = faceLookUp(u2)\n",
        "\n",
        "u_dieFace.append([u1,dieFace1,u2,dieFace2])\n",
        "\n",
        "df = pd.DataFrame(u_dieFace)\n",
        "df.columns = ['u1', '1st Die Roll', 'u2', '2nd Die Roll']\n",
        "\n",
        "rollResults = df[['1st Die Roll','2nd Die Roll']]\n",
        "\n",
        "print(\"So far you have collected {} no of observations\".format(len(u_dieFace)))"
      ],
      "metadata": {
        "id": "cEcGPYnBb0LK"
      },
      "execution_count": null,
      "outputs": []
    },
    {
      "cell_type": "code",
      "source": [
        "print(rollResults)"
      ],
      "metadata": {
        "id": "pK7GM5tGgZ_v"
      },
      "execution_count": null,
      "outputs": []
    },
    {
      "cell_type": "markdown",
      "source": [
        "Lets gather some statistics of the rolls so far"
      ],
      "metadata": {
        "id": "RBSNSHoJfpvQ"
      }
    },
    {
      "cell_type": "code",
      "source": [
        "rollSum = rollResults.sum(axis=1)\n",
        "print(\"Max Sum of Two Die Faces is {}\".format(rollSum.max()))\n",
        "print(\"Avg Sum of Two Die Faces is {}\".format(rollSum.mean()))\n",
        "print(\"Min Sum of Two Die Faces is {}\".format(rollSum.min()))"
      ],
      "metadata": {
        "id": "wKXgbi0zftIR"
      },
      "execution_count": null,
      "outputs": []
    }
  ]
}