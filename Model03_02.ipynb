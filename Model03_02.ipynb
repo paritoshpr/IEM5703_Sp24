{
  "nbformat": 4,
  "nbformat_minor": 0,
  "metadata": {
    "colab": {
      "provenance": [],
      "include_colab_link": true
    },
    "kernelspec": {
      "name": "python3",
      "display_name": "Python 3"
    },
    "language_info": {
      "name": "python"
    }
  },
  "cells": [
    {
      "cell_type": "markdown",
      "metadata": {
        "id": "view-in-github",
        "colab_type": "text"
      },
      "source": [
        "<a href=\"https://colab.research.google.com/github/paritoshpr/IEM5703_Sp24/blob/main/Model03_02.ipynb\" target=\"_parent\"><img src=\"https://colab.research.google.com/assets/colab-badge.svg\" alt=\"Open In Colab\"/></a>"
      ]
    },
    {
      "cell_type": "markdown",
      "source": [
        "### License and Header Import"
      ],
      "metadata": {
        "id": "3OuHjaFiyorO"
      }
    },
    {
      "cell_type": "code",
      "execution_count": null,
      "metadata": {
        "id": "JbcMgbl9qPvj"
      },
      "outputs": [],
      "source": [
        "'''\n",
        "A simple program to demonstrate Model03_02 example from the book Simio and\n",
        "Simulation, Modeling and Analysis by Smith and Sturrock\n",
        "Copyright (C) 2024  Paritosh P Ramanan\n",
        "\n",
        "This program is free software: you can redistribute it and/or modify\n",
        "it under the terms of the GNU General Public License as published by\n",
        "the Free Software Foundation, either version 3 of the License, or\n",
        "(at your option) any later version.\n",
        "\n",
        "This program is distributed in the hope that it will be useful,\n",
        "but WITHOUT ANY WARRANTY; without even the implied warranty of\n",
        "MERCHANTABILITY or FITNESS FOR A PARTICULAR PURPOSE.  See the\n",
        "GNU General Public License for more details.\n",
        "\n",
        "You should have received a copy of the GNU General Public License\n",
        "along with this program.  If not, see <https://www.gnu.org/licenses/>.\n",
        "'''\n",
        "\n",
        "import numpy as np\n",
        "import pandas as pd\n",
        "import matplotlib.pyplot as plt\n",
        "from scipy.stats import norm"
      ]
    },
    {
      "cell_type": "markdown",
      "source": [
        "## Monte Carlo Integration\n"
      ],
      "metadata": {
        "id": "NZTd5QQdqS1b"
      }
    },
    {
      "cell_type": "markdown",
      "source": [
        "* Say we want to evaluate the value of the definite integral $\\int\\limits_{a}^b h(x)dx$ for $a<b$\n",
        "\n",
        "* This is basically area under the curve $h(x)$ between a and b.\n",
        "\n",
        "* Say the integration is hard. How do we approach this?\n",
        "\n",
        "* For simplification lets assume that $h(x) \\geq 0$\n",
        "\n",
        "* Calculus tells us that we can divide the domain $[a,b]$ into numerous really small parts and calcuate the area of each of these \"rectangles\"\n",
        "\n",
        "* As our intervals become more and more narrowm the subareas become more accurate.\n",
        "\n",
        "**Can we create a static Monte Carlo simulation to get a statistical estimate of this integral or area?**\n",
        "\n",
        "Lets consider the example below"
      ],
      "metadata": {
        "id": "0cbcL_JpsT8R"
      }
    },
    {
      "cell_type": "markdown",
      "source": [
        "## Example: Normal Random Variable\n",
        "\n",
        "![image.png](data:image/png;base64,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)"
      ],
      "metadata": {
        "id": "jPtf5xOXAmWQ"
      }
    },
    {
      "cell_type": "markdown",
      "source": [
        "Assume we have a normal RV with mean $\\mu$ and standard deviation $\\sigma>0$\n",
        "\n",
        "The pdf of this distribution is denoted by $N(\\mu,\\sigma,x) = \\frac{1}{\\sigma\\sqrt{2\\pi}}e^{-\\frac{(x-\\mu)^2}{2\\sigma^2}}$\n",
        "\n",
        "Clearly, integrating this function is quite tedious.\n",
        "\n",
        "Lets use Monte Carlo simulation to integrate this function.\n",
        "\n",
        "Consider just randomly $\\mu=5.8,\\sigma=2.3,a=4.5,b=6.7$"
      ],
      "metadata": {
        "id": "MzNxlVMIzafq"
      }
    },
    {
      "cell_type": "code",
      "source": [
        "mu = 5.8\n",
        "sigma = 2.3\n",
        "a = 4.5\n",
        "b = 6.7\n",
        "\n",
        "normal_denom = (sigma*np.sqrt(2*np.pi))\n",
        "normal_exp_denom = (2*sigma**2)\n",
        "\n",
        "def normal(x):\n",
        "  return np.exp((-(x-mu)**2)/normal_exp_denom)/normal_denom"
      ],
      "metadata": {
        "id": "OGf8HAkvAvoJ"
      },
      "execution_count": null,
      "outputs": []
    },
    {
      "cell_type": "markdown",
      "source": [
        "## Monte Carlo Simulation for Integral of $h(x)$"
      ],
      "metadata": {
        "id": "d26swLwxr1HG"
      }
    },
    {
      "cell_type": "markdown",
      "source": [
        "Here is how we can do this.\n",
        "\n",
        "## Step 1\n"
      ],
      "metadata": {
        "id": "p8uf-C7ksXEQ"
      }
    },
    {
      "cell_type": "markdown",
      "source": [
        "\n",
        "* Generate a random variable $U$ that follows a continous uniform distribution between $a$ and $b$. For now assume the availability of `numpy.random.rand`\n",
        "\n",
        "* If $U \\sim Uniform(0,1)$, then it implies it can be stretched to any domain $[a,b]$.\n",
        "\n",
        "* Multiply $U(b-a)$. Why?\n",
        "\n",
        "* Then we can do $U = U + a$ to truly get a value between $[a,b]$\n",
        "\n",
        "* Evaluate the function $h(x)$ at $U\\in[a,b]$\n",
        "\n",
        "* Now compute $Y=(b-a)h(U)$.\n"
      ],
      "metadata": {
        "id": "EEE72Hoizuop"
      }
    },
    {
      "cell_type": "code",
      "source": [
        "#generate U\n",
        "\n",
        "sample_list = []\n",
        "\n",
        "def generateSample(b,a):\n",
        "  u = np.random.rand()\n",
        "\n",
        "  u = u*(b-a)\n",
        "\n",
        "  u = u + a\n",
        "\n",
        "  h_u = normal(u)\n",
        "\n",
        "  y = (b-a)*h_u\n",
        "\n",
        "  return u,h_u,y"
      ],
      "metadata": {
        "id": "20e57qkyAhVP"
      },
      "execution_count": null,
      "outputs": []
    },
    {
      "cell_type": "markdown",
      "source": [
        "## Step 2\n",
        "\n"
      ],
      "metadata": {
        "id": "FNllfIhWv6xT"
      }
    },
    {
      "cell_type": "markdown",
      "source": [
        "* Consider the following observations.\n",
        "\n",
        "* If $h(x) = c$, then computing area under the curve would be straight forward. Why?\n",
        "\n",
        "* However, we know that that is not the case and that $h(x)$ can be a highly non-linear function.\n",
        "\n",
        "So what can we do?"
      ],
      "metadata": {
        "id": "WEcE12IhLD3o"
      }
    },
    {
      "cell_type": "markdown",
      "source": [
        "## Step 3\n"
      ],
      "metadata": {
        "id": "Y1MzAhDDxR_K"
      }
    },
    {
      "cell_type": "markdown",
      "source": [
        "\n",
        "* We know from Mean Value Theorem of Integration that $∃ y \\in [a,b]$ such that $h(y)(b-a)$ is **exactly equal** to $\\int\\limits_{a}^b h(x)dx$\n",
        "\n",
        "* So therefore, if we keep generating $Y_i = (b-a)h(U_i)$ repeatedly for say $n$ times and compute $\\bar{Y} = \\frac{\\sum\\limits_{i=1}^{n}Y_i}{n}$, then we can hope that $\\bar{Y}$ slowly converges to $\\int\\limits_{a}^b h(x)dx$\n",
        "\n",
        "* For each \"trial\", we may get $Y_i$ that can overestimate or underestimate $\\int\\limits_{a}^b h(x)dx$.\n",
        "\n",
        "* **Thats Ok! **.\n",
        "\n",
        "* Because in the long run (asymptotically) the over and under estimates will even out and converge to the expected value of $Y_i$.\n",
        "\n",
        "* Using basic probability, it can be shown that $E[Y] = \\int\\limits_{a}^b h(x)dx$. How convenient!"
      ],
      "metadata": {
        "id": "wM1ah6cTLP6F"
      }
    },
    {
      "cell_type": "code",
      "source": [
        "u,h_u,y = generateSample(b,a)\n",
        "\n",
        "sample_list.append([u,h_u,y])\n",
        "\n",
        "print(\"Generated {} samples so far\".format(len(sample_list)))\n",
        "\n",
        "df = pd.DataFrame(sample_list)\n",
        "df.columns = ['u', 'h(x)', 'y']"
      ],
      "metadata": {
        "colab": {
          "base_uri": "https://localhost:8080/"
        },
        "id": "KSDBum5wxmCU",
        "outputId": "b34735d2-279a-4268-ca5c-76c0d6c4007b"
      },
      "execution_count": null,
      "outputs": [
        {
          "output_type": "stream",
          "name": "stdout",
          "text": [
            "Generated 51 samples so far\n"
          ]
        }
      ]
    },
    {
      "cell_type": "code",
      "source": [
        "v1 = norm.cdf(a,loc=mu,scale=sigma)\n",
        "v2 = norm.cdf(b,loc=mu,scale=sigma)\n",
        "\n",
        "real_y = v2-v1\n",
        "print(\"Actual value of y {}\".format(real_y))"
      ],
      "metadata": {
        "colab": {
          "base_uri": "https://localhost:8080/"
        },
        "id": "-twZBCbMH4vE",
        "outputId": "c696add4-9987-4eb8-ac95-7782a550c67a"
      },
      "execution_count": null,
      "outputs": [
        {
          "output_type": "stream",
          "name": "stdout",
          "text": [
            "Actual value of y 0.3662509027921427\n"
          ]
        }
      ]
    },
    {
      "cell_type": "code",
      "source": [
        "#E[Y]\n",
        "expectation_y = df['y'].mean()\n",
        "print(\"Expected MC value of y {}\".format(expectation_y))"
      ],
      "metadata": {
        "colab": {
          "base_uri": "https://localhost:8080/"
        },
        "id": "bPIDhqvIGeXf",
        "outputId": "a052c986-9c39-4027-c3ed-867d40ef87f2"
      },
      "execution_count": null,
      "outputs": [
        {
          "output_type": "stream",
          "name": "stdout",
          "text": [
            "Expected MC value of y 0.36653826361731623\n"
          ]
        }
      ]
    },
    {
      "cell_type": "markdown",
      "source": [
        "Now lets try and plot the $U$s"
      ],
      "metadata": {
        "id": "uuK_COMkEC5A"
      }
    },
    {
      "cell_type": "code",
      "source": [
        "# print data frame\n",
        "print(df)"
      ],
      "metadata": {
        "id": "dSddsWb5EK4-"
      },
      "execution_count": null,
      "outputs": []
    },
    {
      "cell_type": "code",
      "source": [
        "#plot u\n",
        "plt.hist(df['u'],bins=40,density=1)\n",
        "plt.show()"
      ],
      "metadata": {
        "id": "8vezvQ4VGIYM"
      },
      "execution_count": null,
      "outputs": []
    }
  ]
}